{
  "nbformat": 4,
  "nbformat_minor": 0,
  "metadata": {
    "colab": {
      "provenance": [],
      "gpuType": "T4"
    },
    "kernelspec": {
      "name": "python3",
      "display_name": "Python 3"
    },
    "language_info": {
      "name": "python"
    },
    "accelerator": "GPU",
    "gpuClass": "standard"
  },
  "cells": [
    {
      "cell_type": "code",
      "execution_count": null,
      "metadata": {
        "id": "Gx8g9tYh34Uv"
      },
      "outputs": [],
      "source": [
        "# Convolutional Neural Network - it Extract the feature of image and convert it into lower dimension without loosing its characteristics."
      ]
    },
    {
      "cell_type": "code",
      "source": [
        "import tensorflow as tf"
      ],
      "metadata": {
        "id": "qJiRarkcRTN9"
      },
      "execution_count": 1,
      "outputs": []
    },
    {
      "cell_type": "code",
      "source": [
        "device_name= tf.test.gpu_device_name()\n",
        "if device_name != '/device:GPU:0':\n",
        "  raise SystemError(\"GPU Device not Founded\")\n",
        "print('Found GPU At: {}',format(device_name))"
      ],
      "metadata": {
        "colab": {
          "base_uri": "https://localhost:8080/"
        },
        "id": "uscarSRJ4N8R",
        "outputId": "084e20b3-7458-412a-d867-b582a7fc427b"
      },
      "execution_count": 2,
      "outputs": [
        {
          "output_type": "stream",
          "name": "stdout",
          "text": [
            "Found GPU At: {} /device:GPU:0\n"
          ]
        }
      ]
    },
    {
      "cell_type": "code",
      "source": [
        "import pandas as pd\n",
        "import numpy as np\n",
        "import matplotlib.pyplot as plt\n",
        "%matplotlib inline\n",
        "from __future__ import print_function\n",
        "import keras\n",
        "from keras.models import Sequential\n",
        "from keras.utils import to_categorical\n",
        "from keras.layers import Dense, Conv2D, MaxPooling2D, Dropout, Flatten"
      ],
      "metadata": {
        "id": "eKc6-pnF6CXK"
      },
      "execution_count": 3,
      "outputs": []
    },
    {
      "cell_type": "code",
      "source": [
        "from keras.datasets import cifar10\n",
        "(train_images, train_labels), (test_images, test_labels)= cifar10.load_data()\n",
        "#e will use CIFAR-10 dataset to build a CNN image classifier. CIFAR-10 dataset has 10 different labels\n",
        "# Airplane, Automobile, Bird, Cat, Deer, Dog,Frog,Horse,Ship, Truck\n",
        "# It has 50,000 training data and 10,000 testing image data. Image size in CIFAR-10 is 32 x 32 x 3."
      ],
      "metadata": {
        "colab": {
          "base_uri": "https://localhost:8080/"
        },
        "id": "Lek9aS6J69rJ",
        "outputId": "7014ac36-feec-4980-ef0a-ab76fb52602f"
      },
      "execution_count": 4,
      "outputs": [
        {
          "output_type": "stream",
          "name": "stdout",
          "text": [
            "Downloading data from https://www.cs.toronto.edu/~kriz/cifar-10-python.tar.gz\n",
            "170498071/170498071 [==============================] - 44s 0us/step\n"
          ]
        }
      ]
    },
    {
      "cell_type": "code",
      "source": [
        "print(\"Training Data shape :\", train_images.shape, train_labels.shape)\n",
        "print(\"Test data shape :\", test_images.shape, test_labels.shape)\n",
        "\n",
        "# for now We will print two example image from dataset (Cifar10). \n",
        "\n",
        "#find the unique number from the train labels\n",
        "classes = np.unique(train_labels)\n",
        "nClasses = len(classes)\n",
        "print('Total number of Outputs: ',nClasses)\n",
        "print('Output classes :', classes)\n",
        "\n",
        "plt.figure(figsize=[4,2])\n",
        "\n",
        "# Display the first image in training Data\n",
        "plt.subplot(121)\n",
        "plt.imshow(train_images[0,:,:], cmap='gray')\n",
        "plt.title(\"Ground Truth :{}\".format(train_labels[0]))\n",
        "\n",
        "# Display the first image of test data\n",
        "plt.subplot(122)\n",
        "plt.imshow(test_images[0,:,:], cmap='gray')\n",
        "plt.title(\"Ground Truth : {}\".format(test_labels[0]))"
      ],
      "metadata": {
        "colab": {
          "base_uri": "https://localhost:8080/",
          "height": 310
        },
        "id": "nkGtTNS57WLx",
        "outputId": "6880f145-e54b-425f-c9ed-d3fa9ded83ed"
      },
      "execution_count": 5,
      "outputs": [
        {
          "output_type": "stream",
          "name": "stdout",
          "text": [
            "Training Data shape : (50000, 32, 32, 3) (50000, 1)\n",
            "Test data shape : (10000, 32, 32, 3) (10000, 1)\n",
            "Total number of Outputs:  10\n",
            "Output classes : [0 1 2 3 4 5 6 7 8 9]\n"
          ]
        },
        {
          "output_type": "execute_result",
          "data": {
            "text/plain": [
              "Text(0.5, 1.0, 'Ground Truth : [3]')"
            ]
          },
          "metadata": {},
          "execution_count": 5
        },
        {
          "output_type": "display_data",
          "data": {
            "text/plain": [
              "<Figure size 400x200 with 2 Axes>"
            ],
            "image/png": "[encoded data removed]"
          },
          "metadata": {}
        }
      ]
    },
    {
      "cell_type": "code",
      "source": [
        "# find the shape of input image then reset it into input format for training and testing sets. \n",
        "# After that change all datatypes into float.\n",
        "nRows, nCols, nDims = train_images.shape[1:]\n",
        "train_data = train_images.reshape(train_images.shape[0], nRows, nCols, nDims)\n",
        "test_data = test_images.reshape(test_images.shape[0], nRows, nCols, nDims)\n",
        "input_shape = (nRows, nCols, nDims)\n",
        "\n",
        "train_data = train_data.astype('float32')\n",
        "test_data = test_data.astype('float32')"
      ],
      "metadata": {
        "id": "34cotCh29trz"
      },
      "execution_count": 6,
      "outputs": []
    },
    {
      "cell_type": "code",
      "source": [
        "# Normalize the Data between 0-1 by dividing train data and test data with 255 then convert all\n",
        "# labels into one-hot vector with to_categorical() function.\n",
        "\n",
        "train_data /= 255\n",
        "test_data /= 255\n",
        "\n",
        "train_labels_one_hot = to_categorical(train_labels)\n",
        "test_labels_one_hot = to_categorical(test_labels)"
      ],
      "metadata": {
        "id": "gw9uIb14EXyX"
      },
      "execution_count": 7,
      "outputs": []
    },
    {
      "cell_type": "code",
      "source": [
        "# Display the change for category label using one-hot encoding.\n",
        "print('Original label 0 :', train_labels[0])\n",
        "print('After conversion to categorical (one-hot) :', train_labels_one_hot[0])"
      ],
      "metadata": {
        "colab": {
          "base_uri": "https://localhost:8080/"
        },
        "id": "pOGdFwx-FGvU",
        "outputId": "9d0ea8a7-21de-4836-a351-9a0c543a376a"
      },
      "execution_count": 8,
      "outputs": [
        {
          "output_type": "stream",
          "name": "stdout",
          "text": [
            "Original label 0 : [6]\n",
            "After conversion to categorical (one-hot) : [0. 0. 0. 0. 0. 0. 1. 0. 0. 0.]\n"
          ]
        }
      ]
    },
    {
      "cell_type": "code",
      "source": [
        "# Now Create our model\n",
        "# add up Convo layer followed by pooling layers.\n",
        "# then connect Dense(FC) layer to predict the classes.\n",
        "# *input data fed to first convo layer,\n",
        "# output of that convo layer act as input for next convo layer and so on.\n",
        "# finally data is fed to FC layer which try to predict the correct labels.\n",
        "\n",
        "def createModel():\n",
        "  model = Sequential()\n",
        "\n",
        "  # The first two layers with 32 filters of window size 3*3.\n",
        "  model.add(Conv2D(32,(3,3), padding = 'same', activation = 'relu', input_shape= input_shape))\n",
        "  model.add(Conv2D(32,(3,3), activation = 'relu'))\n",
        "  model.add(MaxPooling2D(pool_size=(2,2)))\n",
        "  model.add(Dropout(0.25))\n",
        "\n",
        "  model.add(Conv2D(64,(3,3), padding = 'same', activation = 'relu'))\n",
        "  model.add(Conv2D(64,(3,3), activation = 'relu'))\n",
        "  model.add(MaxPooling2D(pool_size=(2,2)))\n",
        "  model.add(Dropout(0.25))\n",
        "\n",
        "  model.add(Conv2D(64,(3,3), padding = 'same', activation = 'relu'))\n",
        "  model.add(Conv2D(64,(3,3), activation = 'relu'))\n",
        "  model.add(MaxPooling2D(pool_size=(2,2)))\n",
        "  model.add(Dropout(0.25))\n",
        "\n",
        "  model.add(Flatten())\n",
        "  model.add(Dense(512, activation='relu'))\n",
        "  model.add(Dropout(0.5))\n",
        "  model.add(Dense(nClasses, activation='softmax'))\n",
        "\n",
        "  return model"
      ],
      "metadata": {
        "id": "wX7yDakmGwj2"
      },
      "execution_count": 9,
      "outputs": []
    },
    {
      "cell_type": "code",
      "source": [
        "# initialise all parameter and compile our model with rmsprops optimiser. There are many \n",
        "# optimizers for example adam, SGD, GradientDescent, Adagrad, Adadelta, and Adamax.\n",
        "# Here batch is 256 with 50 epochs.\n",
        "\n",
        "model1 = createModel()\n",
        "batch_size = 256\n",
        "epochs = 50\n",
        "model1.compile(optimizer = 'rmsprop', loss= 'categorical_crossentropy', metrics=['accuracy'])"
      ],
      "metadata": {
        "id": "HIzvvfKGKVk9"
      },
      "execution_count": 10,
      "outputs": []
    },
    {
      "cell_type": "code",
      "source": [
        "model1.summary()"
      ],
      "metadata": {
        "colab": {
          "base_uri": "https://localhost:8080/"
        },
        "id": "I_aBrPZJLLaW",
        "outputId": "66ee2fce-979f-46ef-dce9-cab681948107"
      },
      "execution_count": 11,
      "outputs": [
        {
          "output_type": "stream",
          "name": "stdout",
          "text": [
            "Model: \"sequential\"\n",
            "_________________________________________________________________\n",
            " Layer (type)                Output Shape              Param #   \n",
            "=================================================================\n",
            " conv2d (Conv2D)             (None, 32, 32, 32)        896       \n",
            "                                                                 \n",
            " conv2d_1 (Conv2D)           (None, 30, 30, 32)        9248      \n",
            "                                                                 \n",
            " max_pooling2d (MaxPooling2D  (None, 15, 15, 32)       0         \n",
            " )                                                               \n",
            "                                                                 \n",
            " dropout (Dropout)           (None, 15, 15, 32)        0         \n",
            "                                                                 \n",
            " conv2d_2 (Conv2D)           (None, 15, 15, 64)        18496     \n",
            "                                                                 \n",
            " conv2d_3 (Conv2D)           (None, 13, 13, 64)        36928     \n",
            "                                                                 \n",
            " max_pooling2d_1 (MaxPooling  (None, 6, 6, 64)         0         \n",
            " 2D)                                                             \n",
            "                                                                 \n",
            " dropout_1 (Dropout)         (None, 6, 6, 64)          0         \n",
            "                                                                 \n",
            " conv2d_4 (Conv2D)           (None, 6, 6, 64)          36928     \n",
            "                                                                 \n",
            " conv2d_5 (Conv2D)           (None, 4, 4, 64)          36928     \n",
            "                                                                 \n",
            " max_pooling2d_2 (MaxPooling  (None, 2, 2, 64)         0         \n",
            " 2D)                                                             \n",
            "                                                                 \n",
            " dropout_2 (Dropout)         (None, 2, 2, 64)          0         \n",
            "                                                                 \n",
            " flatten (Flatten)           (None, 256)               0         \n",
            "                                                                 \n",
            " dense (Dense)               (None, 512)               131584    \n",
            "                                                                 \n",
            " dropout_3 (Dropout)         (None, 512)               0         \n",
            "                                                                 \n",
            " dense_1 (Dense)             (None, 10)                5130      \n",
            "                                                                 \n",
            "=================================================================\n",
            "Total params: 276,138\n",
            "Trainable params: 276,138\n",
            "Non-trainable params: 0\n",
            "_________________________________________________________________\n"
          ]
        }
      ]
    },
    {
      "cell_type": "code",
      "source": [
        "# train our model then evaluate it.\n",
        "history = model1.fit(train_data, train_labels_one_hot, batch_size=batch_size, epochs=epochs, verbose=1,\n",
        "                     validation_data=(test_data, test_labels_one_hot))\n",
        "model1.evaluate(test_data,test_labels_one_hot)"
      ],
      "metadata": {
        "colab": {
          "base_uri": "https://localhost:8080/"
        },
        "id": "yAoWgMyCLQG1",
        "outputId": "08d55900-2b0a-4781-b3f5-9f0a415f942d"
      },
      "execution_count": 12,
      "outputs": [
        {
          "output_type": "stream",
          "name": "stdout",
          "text": [
            "Epoch 1/50\n",
            "196/196 [==============================] - 18s 29ms/step - loss: 2.1075 - accuracy: 0.2201 - val_loss: 1.7897 - val_accuracy: 0.3409\n",
            "Epoch 2/50\n",
            "196/196 [==============================] - 5s 23ms/step - loss: 1.7662 - accuracy: 0.3592 - val_loss: 1.5679 - val_accuracy: 0.4354\n",
            "Epoch 3/50\n",
            "196/196 [==============================] - 4s 22ms/step - loss: 1.5861 - accuracy: 0.4253 - val_loss: 1.4428 - val_accuracy: 0.4605\n",
            "Epoch 4/50\n",
            "196/196 [==============================] - 5s 23ms/step - loss: 1.4553 - accuracy: 0.4752 - val_loss: 1.2925 - val_accuracy: 0.5288\n",
            "Epoch 5/50\n",
            "196/196 [==============================] - 4s 22ms/step - loss: 1.3340 - accuracy: 0.5205 - val_loss: 1.2989 - val_accuracy: 0.5334\n",
            "Epoch 6/50\n",
            "196/196 [==============================] - 4s 22ms/step - loss: 1.2454 - accuracy: 0.5564 - val_loss: 1.2404 - val_accuracy: 0.5434\n",
            "Epoch 7/50\n",
            "196/196 [==============================] - 4s 23ms/step - loss: 1.1693 - accuracy: 0.5849 - val_loss: 1.0619 - val_accuracy: 0.6260\n",
            "Epoch 8/50\n",
            "196/196 [==============================] - 4s 22ms/step - loss: 1.1060 - accuracy: 0.6117 - val_loss: 1.1450 - val_accuracy: 0.5987\n",
            "Epoch 9/50\n",
            "196/196 [==============================] - 4s 22ms/step - loss: 1.0488 - accuracy: 0.6312 - val_loss: 1.0370 - val_accuracy: 0.6354\n",
            "Epoch 10/50\n",
            "196/196 [==============================] - 4s 22ms/step - loss: 0.9929 - accuracy: 0.6510 - val_loss: 1.0102 - val_accuracy: 0.6564\n",
            "Epoch 11/50\n",
            "196/196 [==============================] - 4s 22ms/step - loss: 0.9491 - accuracy: 0.6673 - val_loss: 0.8845 - val_accuracy: 0.6910\n",
            "Epoch 12/50\n",
            "196/196 [==============================] - 4s 23ms/step - loss: 0.9049 - accuracy: 0.6834 - val_loss: 0.9031 - val_accuracy: 0.6822\n",
            "Epoch 13/50\n",
            "196/196 [==============================] - 4s 22ms/step - loss: 0.8657 - accuracy: 0.6975 - val_loss: 0.8094 - val_accuracy: 0.7232\n",
            "Epoch 14/50\n",
            "196/196 [==============================] - 4s 22ms/step - loss: 0.8378 - accuracy: 0.7077 - val_loss: 0.7931 - val_accuracy: 0.7207\n",
            "Epoch 15/50\n",
            "196/196 [==============================] - 4s 23ms/step - loss: 0.8021 - accuracy: 0.7204 - val_loss: 0.8240 - val_accuracy: 0.7171\n",
            "Epoch 16/50\n",
            "196/196 [==============================] - 4s 22ms/step - loss: 0.7735 - accuracy: 0.7319 - val_loss: 0.8138 - val_accuracy: 0.7150\n",
            "Epoch 17/50\n",
            "196/196 [==============================] - 4s 22ms/step - loss: 0.7538 - accuracy: 0.7384 - val_loss: 0.8060 - val_accuracy: 0.7193\n",
            "Epoch 18/50\n",
            "196/196 [==============================] - 5s 23ms/step - loss: 0.7267 - accuracy: 0.7485 - val_loss: 0.7544 - val_accuracy: 0.7334\n",
            "Epoch 19/50\n",
            "196/196 [==============================] - 4s 22ms/step - loss: 0.7012 - accuracy: 0.7558 - val_loss: 1.2565 - val_accuracy: 0.6168\n",
            "Epoch 20/50\n",
            "196/196 [==============================] - 4s 22ms/step - loss: 0.6839 - accuracy: 0.7617 - val_loss: 0.6936 - val_accuracy: 0.7630\n",
            "Epoch 21/50\n",
            "196/196 [==============================] - 4s 22ms/step - loss: 0.6722 - accuracy: 0.7668 - val_loss: 0.6921 - val_accuracy: 0.7617\n",
            "Epoch 22/50\n",
            "196/196 [==============================] - 4s 22ms/step - loss: 0.6510 - accuracy: 0.7739 - val_loss: 0.6690 - val_accuracy: 0.7697\n",
            "Epoch 23/50\n",
            "196/196 [==============================] - 4s 22ms/step - loss: 0.6331 - accuracy: 0.7817 - val_loss: 0.7597 - val_accuracy: 0.7477\n",
            "Epoch 24/50\n",
            "196/196 [==============================] - 4s 22ms/step - loss: 0.6248 - accuracy: 0.7831 - val_loss: 0.6652 - val_accuracy: 0.7738\n",
            "Epoch 25/50\n",
            "196/196 [==============================] - 4s 22ms/step - loss: 0.6049 - accuracy: 0.7901 - val_loss: 0.6603 - val_accuracy: 0.7735\n",
            "Epoch 26/50\n",
            "196/196 [==============================] - 4s 23ms/step - loss: 0.5975 - accuracy: 0.7931 - val_loss: 0.7385 - val_accuracy: 0.7641\n",
            "Epoch 27/50\n",
            "196/196 [==============================] - 4s 22ms/step - loss: 0.5837 - accuracy: 0.7967 - val_loss: 0.6635 - val_accuracy: 0.7746\n",
            "Epoch 28/50\n",
            "196/196 [==============================] - 4s 22ms/step - loss: 0.5776 - accuracy: 0.7983 - val_loss: 0.6859 - val_accuracy: 0.7753\n",
            "Epoch 29/50\n",
            "196/196 [==============================] - 4s 23ms/step - loss: 0.5608 - accuracy: 0.8027 - val_loss: 0.6307 - val_accuracy: 0.7899\n",
            "Epoch 30/50\n",
            "196/196 [==============================] - 4s 22ms/step - loss: 0.5593 - accuracy: 0.8062 - val_loss: 0.6370 - val_accuracy: 0.7814\n",
            "Epoch 31/50\n",
            "196/196 [==============================] - 4s 22ms/step - loss: 0.5512 - accuracy: 0.8092 - val_loss: 0.7076 - val_accuracy: 0.7645\n",
            "Epoch 32/50\n",
            "196/196 [==============================] - 5s 24ms/step - loss: 0.5419 - accuracy: 0.8135 - val_loss: 0.6791 - val_accuracy: 0.7816\n",
            "Epoch 33/50\n",
            "196/196 [==============================] - 4s 22ms/step - loss: 0.5310 - accuracy: 0.8149 - val_loss: 0.6924 - val_accuracy: 0.7733\n",
            "Epoch 34/50\n",
            "196/196 [==============================] - 4s 22ms/step - loss: 0.5220 - accuracy: 0.8183 - val_loss: 0.6706 - val_accuracy: 0.7822\n",
            "Epoch 35/50\n",
            "196/196 [==============================] - 5s 23ms/step - loss: 0.5167 - accuracy: 0.8196 - val_loss: 0.6450 - val_accuracy: 0.7950\n",
            "Epoch 36/50\n",
            "196/196 [==============================] - 4s 22ms/step - loss: 0.5079 - accuracy: 0.8236 - val_loss: 0.7058 - val_accuracy: 0.7823\n",
            "Epoch 37/50\n",
            "196/196 [==============================] - 4s 22ms/step - loss: 0.5051 - accuracy: 0.8241 - val_loss: 0.6404 - val_accuracy: 0.7887\n",
            "Epoch 38/50\n",
            "196/196 [==============================] - 4s 22ms/step - loss: 0.5073 - accuracy: 0.8232 - val_loss: 0.6226 - val_accuracy: 0.7939\n",
            "Epoch 39/50\n",
            "196/196 [==============================] - 4s 22ms/step - loss: 0.4918 - accuracy: 0.8307 - val_loss: 0.6513 - val_accuracy: 0.7899\n",
            "Epoch 40/50\n",
            "196/196 [==============================] - 4s 22ms/step - loss: 0.4886 - accuracy: 0.8312 - val_loss: 0.6239 - val_accuracy: 0.8027\n",
            "Epoch 41/50\n",
            "196/196 [==============================] - 4s 23ms/step - loss: 0.4888 - accuracy: 0.8295 - val_loss: 0.6052 - val_accuracy: 0.8009\n",
            "Epoch 42/50\n",
            "196/196 [==============================] - 4s 22ms/step - loss: 0.4776 - accuracy: 0.8347 - val_loss: 0.6391 - val_accuracy: 0.7974\n",
            "Epoch 43/50\n",
            "196/196 [==============================] - 4s 22ms/step - loss: 0.4729 - accuracy: 0.8362 - val_loss: 0.5714 - val_accuracy: 0.8127\n",
            "Epoch 44/50\n",
            "196/196 [==============================] - 4s 22ms/step - loss: 0.4698 - accuracy: 0.8368 - val_loss: 0.6322 - val_accuracy: 0.7910\n",
            "Epoch 45/50\n",
            "196/196 [==============================] - 4s 22ms/step - loss: 0.4675 - accuracy: 0.8389 - val_loss: 0.5862 - val_accuracy: 0.8102\n",
            "Epoch 46/50\n",
            "196/196 [==============================] - 5s 23ms/step - loss: 0.4655 - accuracy: 0.8394 - val_loss: 0.6517 - val_accuracy: 0.7916\n",
            "Epoch 47/50\n",
            "196/196 [==============================] - 4s 22ms/step - loss: 0.4621 - accuracy: 0.8388 - val_loss: 0.7699 - val_accuracy: 0.7722\n",
            "Epoch 48/50\n",
            "196/196 [==============================] - 4s 22ms/step - loss: 0.4564 - accuracy: 0.8418 - val_loss: 0.6800 - val_accuracy: 0.7894\n",
            "Epoch 49/50\n",
            "196/196 [==============================] - 4s 23ms/step - loss: 0.4561 - accuracy: 0.8415 - val_loss: 0.6482 - val_accuracy: 0.8011\n",
            "Epoch 50/50\n",
            "196/196 [==============================] - 4s 22ms/step - loss: 0.4509 - accuracy: 0.8431 - val_loss: 0.7057 - val_accuracy: 0.7890\n",
            "313/313 [==============================] - 1s 3ms/step - loss: 0.7057 - accuracy: 0.7890\n"
          ]
        },
        {
          "output_type": "execute_result",
          "data": {
            "text/plain": [
              "[0.7056961059570312, 0.7889999747276306]"
            ]
          },
          "metadata": {},
          "execution_count": 12
        }
      ]
    },
    {
      "cell_type": "code",
      "source": [],
      "metadata": {
        "id": "mGY0kMYvMPFW"
      },
      "execution_count": 12,
      "outputs": []
    }
  ]
}